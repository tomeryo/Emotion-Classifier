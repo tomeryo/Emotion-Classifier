{
 "cells": [
  {
   "cell_type": "markdown",
   "id": "arabic-rwanda",
   "metadata": {
    "papermill": {
     "duration": 0.014595,
     "end_time": "2021-08-10T15:54:40.793978",
     "exception": false,
     "start_time": "2021-08-10T15:54:40.779383",
     "status": "completed"
    },
    "tags": []
   },
   "source": [
    "# Emotion Classifier \n",
    "The bot of the Center for Daily Mental Conversations of the Center for Mental Health.<br>\n",
    "You can write to the bot how you went through the day and how you feel, or in fact anything you want and the bot will recognize how you feel and give recommendations accordingly.<br>\n",
    "In some cases, the bot will detect a disturbed mental state, it will give recommendations for things that can be done to improve the feeling.\n",
    "\n",
    "\n",
    "![emails](https://digital.ashdod.muni.il/uploads/images/%D7%91%D7%A8%D7%99%D7%90%D7%95%D7%AA-%D7%94%D7%A0%D7%A4%D7%A9-1000x370.jpg)\n",
    "\n",
    " "
   ]
  },
  {
   "cell_type": "markdown",
   "id": "stock-guidance",
   "metadata": {
    "papermill": {
     "duration": 0.013154,
     "end_time": "2021-08-10T15:54:40.821399",
     "exception": false,
     "start_time": "2021-08-10T15:54:40.808245",
     "status": "completed"
    },
    "tags": []
   },
   "source": [
    "# Table of contents\n",
    "\n",
    "[<h3>1. Loading, data explorating and preprocessing</h3>](#1)\n",
    "\n",
    "[<h3>2. Model comparison</h3>](#2)\n",
    "\n",
    "[<h3>3. Hyperparameter tuning for DecisionTreeClassifier</h3>](#3)\n",
    "\n",
    "[<h3>4. The DecisionTreeClassifier Model</h3>](#4)\n",
    "\n",
    "[<h3>5. Example of predictions</h3>](#5)"
   ]
  },
  {
   "cell_type": "markdown",
   "id": "veterinary-number",
   "metadata": {
    "papermill": {
     "duration": 0.013127,
     "end_time": "2021-08-10T15:54:40.847958",
     "exception": false,
     "start_time": "2021-08-10T15:54:40.834831",
     "status": "completed"
    },
    "tags": []
   },
   "source": [
    "# 1. Loading, data explorating and preprocessing<a class=\"anchor\" id=\"1\"></a>"
   ]
  },
  {
   "cell_type": "code",
   "execution_count": 1,
   "id": "polar-talent",
   "metadata": {
    "_cell_guid": "b1076dfc-b9ad-4769-8c92-a6c4dae69d19",
    "_uuid": "8f2839f25d086af736a60e9eeb907d3b93b6e0e5",
    "execution": {
     "iopub.execute_input": "2021-08-10T15:54:40.882070Z",
     "iopub.status.busy": "2021-08-10T15:54:40.881306Z",
     "iopub.status.idle": "2021-08-10T15:54:42.590255Z",
     "shell.execute_reply": "2021-08-10T15:54:42.590688Z"
    },
    "papermill": {
     "duration": 1.72956,
     "end_time": "2021-08-10T15:54:42.590970",
     "exception": false,
     "start_time": "2021-08-10T15:54:40.861410",
     "status": "completed"
    },
    "tags": []
   },
   "outputs": [],
   "source": [
    "import numpy as np\n",
    "import pandas as pd\n",
    "import matplotlib.pyplot as plt\n",
    "import seaborn as sns\n",
    "\n",
    "from sklearn.model_selection import train_test_split\n",
    "from sklearn.ensemble import RandomForestClassifier, GradientBoostingClassifier\n",
    "from xgboost import XGBClassifier\n",
    "from sklearn.naive_bayes import MultinomialNB\n",
    "from sklearn.linear_model import LogisticRegression\n",
    "from sklearn.neighbors import KNeighborsClassifier\n",
    "from sklearn.tree import DecisionTreeClassifier\n",
    "from sklearn.svm import LinearSVC, SVC\n",
    "from time import perf_counter\n",
    "import warnings\n",
    "warnings.filterwarnings(action='ignore')\n",
    "\n",
    "from IPython.display import Markdown, display\n",
    "def printmd(string):\n",
    "    # Print with Markdowns    \n",
    "    display(Markdown(string))\n",
    "    \n",
    "df = pd.read_csv('training.csv')"
   ]
  },
  {
   "cell_type": "code",
   "execution_count": 2,
   "id": "integral-escape",
   "metadata": {
    "execution": {
     "iopub.execute_input": "2021-08-10T15:54:42.621884Z",
     "iopub.status.busy": "2021-08-10T15:54:42.621051Z",
     "iopub.status.idle": "2021-08-10T15:54:42.645885Z",
     "shell.execute_reply": "2021-08-10T15:54:42.646356Z"
    },
    "papermill": {
     "duration": 0.041659,
     "end_time": "2021-08-10T15:54:42.646522",
     "exception": false,
     "start_time": "2021-08-10T15:54:42.604863",
     "status": "completed"
    },
    "tags": []
   },
   "outputs": [
    {
     "data": {
      "text/html": [
       "<div>\n",
       "<style scoped>\n",
       "    .dataframe tbody tr th:only-of-type {\n",
       "        vertical-align: middle;\n",
       "    }\n",
       "\n",
       "    .dataframe tbody tr th {\n",
       "        vertical-align: top;\n",
       "    }\n",
       "\n",
       "    .dataframe thead th {\n",
       "        text-align: right;\n",
       "    }\n",
       "</style>\n",
       "<table border=\"1\" class=\"dataframe\">\n",
       "  <thead>\n",
       "    <tr style=\"text-align: right;\">\n",
       "      <th></th>\n",
       "      <th>text</th>\n",
       "      <th>label</th>\n",
       "      <th>description</th>\n",
       "    </tr>\n",
       "  </thead>\n",
       "  <tbody>\n",
       "    <tr>\n",
       "      <th>0</th>\n",
       "      <td>i didnt feel humiliated</td>\n",
       "      <td>0</td>\n",
       "      <td>sadness</td>\n",
       "    </tr>\n",
       "    <tr>\n",
       "      <th>1</th>\n",
       "      <td>i can go from feeling so hopeless to so damned...</td>\n",
       "      <td>0</td>\n",
       "      <td>sadness</td>\n",
       "    </tr>\n",
       "    <tr>\n",
       "      <th>2</th>\n",
       "      <td>im grabbing a minute to post i feel greedy wrong</td>\n",
       "      <td>3</td>\n",
       "      <td>anger</td>\n",
       "    </tr>\n",
       "    <tr>\n",
       "      <th>3</th>\n",
       "      <td>i am ever feeling nostalgic about the fireplac...</td>\n",
       "      <td>2</td>\n",
       "      <td>love</td>\n",
       "    </tr>\n",
       "    <tr>\n",
       "      <th>4</th>\n",
       "      <td>i am feeling grouchy</td>\n",
       "      <td>3</td>\n",
       "      <td>anger</td>\n",
       "    </tr>\n",
       "  </tbody>\n",
       "</table>\n",
       "</div>"
      ],
      "text/plain": [
       "                                                text  label description\n",
       "0                            i didnt feel humiliated      0     sadness\n",
       "1  i can go from feeling so hopeless to so damned...      0     sadness\n",
       "2   im grabbing a minute to post i feel greedy wrong      3       anger\n",
       "3  i am ever feeling nostalgic about the fireplac...      2        love\n",
       "4                               i am feeling grouchy      3       anger"
      ]
     },
     "execution_count": 2,
     "metadata": {},
     "output_type": "execute_result"
    }
   ],
   "source": [
    "#add description column\n",
    "labels_dict = {0:'sadness', 1:'joy', 2:'love', 3:'anger', 4:'fear', 5:'surprise'}\n",
    "df['description'] = df['label'].map(labels_dict)\n",
    "\n",
    "# Display the first 5 rows\n",
    "df.head(5)"
   ]
  },
  {
   "cell_type": "code",
   "execution_count": 3,
   "id": "matched-fields",
   "metadata": {
    "execution": {
     "iopub.execute_input": "2021-08-10T15:54:42.679887Z",
     "iopub.status.busy": "2021-08-10T15:54:42.679034Z",
     "iopub.status.idle": "2021-08-10T15:54:42.684553Z",
     "shell.execute_reply": "2021-08-10T15:54:42.683981Z"
    },
    "papermill": {
     "duration": 0.022254,
     "end_time": "2021-08-10T15:54:42.684679",
     "exception": false,
     "start_time": "2021-08-10T15:54:42.662425",
     "status": "completed"
    },
    "tags": []
   },
   "outputs": [
    {
     "name": "stdout",
     "output_type": "stream",
     "text": [
      "The dataset as a total of 20000 colomns, which are categorized is sadness (0), joy (1), love (2), anger (3), fear (4), surprise (5).\n"
     ]
    }
   ],
   "source": [
    "print(f'The dataset as a total of {df.shape[0]} colomns, which are categorized is sadness (0), joy (1), love (2), anger (3), fear (4), surprise (5).')"
   ]
  },
  {
   "cell_type": "code",
   "execution_count": 4,
   "id": "visible-silicon",
   "metadata": {
    "execution": {
     "iopub.execute_input": "2021-08-10T15:54:42.721272Z",
     "iopub.status.busy": "2021-08-10T15:54:42.720553Z",
     "iopub.status.idle": "2021-08-10T15:54:42.877910Z",
     "shell.execute_reply": "2021-08-10T15:54:42.877339Z"
    },
    "papermill": {
     "duration": 0.178874,
     "end_time": "2021-08-10T15:54:42.878067",
     "exception": false,
     "start_time": "2021-08-10T15:54:42.699193",
     "status": "completed"
    },
    "tags": []
   },
   "outputs": [
    {
     "data": {
      "image/png": "[encoded data removed]",
      "text/plain": [
       "<Figure size 432x288 with 1 Axes>"
      ]
     },
     "metadata": {
      "needs_background": "light"
     },
     "output_type": "display_data"
    }
   ],
   "source": [
    "sns.countplot(df['description'],order = df['description'].value_counts(normalize=True).index)\n",
    "plt.title('Total number of answer in the dataset')\n",
    "plt.show()"
   ]
  },
  {
   "cell_type": "markdown",
   "id": "alternative-laugh",
   "metadata": {
    "papermill": {
     "duration": 0.014936,
     "end_time": "2021-08-10T15:54:42.908283",
     "exception": false,
     "start_time": "2021-08-10T15:54:42.893347",
     "status": "completed"
    },
    "tags": []
   },
   "source": [
    "The raw text have a lot of characters beside of the ones of the alphabet, which might provoke issues later. Therefore, the text will be cleaned. Remember that it is a basic model, which won't take count of punctuation."
   ]
  },
  {
   "cell_type": "code",
   "execution_count": 5,
   "id": "southern-potter",
   "metadata": {
    "execution": {
     "iopub.execute_input": "2021-08-10T15:54:42.943773Z",
     "iopub.status.busy": "2021-08-10T15:54:42.943200Z",
     "iopub.status.idle": "2021-08-10T15:54:43.389528Z",
     "shell.execute_reply": "2021-08-10T15:54:43.388950Z"
    },
    "papermill": {
     "duration": 0.466176,
     "end_time": "2021-08-10T15:54:43.389663",
     "exception": false,
     "start_time": "2021-08-10T15:54:42.923487",
     "status": "completed"
    },
    "tags": []
   },
   "outputs": [
    {
     "data": {
      "text/html": [
       "<div>\n",
       "<style scoped>\n",
       "    .dataframe tbody tr th:only-of-type {\n",
       "        vertical-align: middle;\n",
       "    }\n",
       "\n",
       "    .dataframe tbody tr th {\n",
       "        vertical-align: top;\n",
       "    }\n",
       "\n",
       "    .dataframe thead th {\n",
       "        text-align: right;\n",
       "    }\n",
       "</style>\n",
       "<table border=\"1\" class=\"dataframe\">\n",
       "  <thead>\n",
       "    <tr style=\"text-align: right;\">\n",
       "      <th></th>\n",
       "      <th>text</th>\n",
       "      <th>label</th>\n",
       "      <th>description</th>\n",
       "      <th>text_clean</th>\n",
       "    </tr>\n",
       "  </thead>\n",
       "  <tbody>\n",
       "    <tr>\n",
       "      <th>0</th>\n",
       "      <td>i didnt feel humiliated</td>\n",
       "      <td>0</td>\n",
       "      <td>sadness</td>\n",
       "      <td>i didnt feel humiliated</td>\n",
       "    </tr>\n",
       "    <tr>\n",
       "      <th>1</th>\n",
       "      <td>i can go from feeling so hopeless to so damned...</td>\n",
       "      <td>0</td>\n",
       "      <td>sadness</td>\n",
       "      <td>i can go from feeling so hopeless to so damned...</td>\n",
       "    </tr>\n",
       "    <tr>\n",
       "      <th>2</th>\n",
       "      <td>im grabbing a minute to post i feel greedy wrong</td>\n",
       "      <td>3</td>\n",
       "      <td>anger</td>\n",
       "      <td>im grabbing a minute to post i feel greedy wrong</td>\n",
       "    </tr>\n",
       "    <tr>\n",
       "      <th>3</th>\n",
       "      <td>i am ever feeling nostalgic about the fireplac...</td>\n",
       "      <td>2</td>\n",
       "      <td>love</td>\n",
       "      <td>i am ever feeling nostalgic about the fireplac...</td>\n",
       "    </tr>\n",
       "    <tr>\n",
       "      <th>4</th>\n",
       "      <td>i am feeling grouchy</td>\n",
       "      <td>3</td>\n",
       "      <td>anger</td>\n",
       "      <td>i am feeling grouchy</td>\n",
       "    </tr>\n",
       "  </tbody>\n",
       "</table>\n",
       "</div>"
      ],
      "text/plain": [
       "                                                text  label description  \\\n",
       "0                            i didnt feel humiliated      0     sadness   \n",
       "1  i can go from feeling so hopeless to so damned...      0     sadness   \n",
       "2   im grabbing a minute to post i feel greedy wrong      3       anger   \n",
       "3  i am ever feeling nostalgic about the fireplac...      2        love   \n",
       "4                               i am feeling grouchy      3       anger   \n",
       "\n",
       "                                          text_clean  \n",
       "0                            i didnt feel humiliated  \n",
       "1  i can go from feeling so hopeless to so damned...  \n",
       "2   im grabbing a minute to post i feel greedy wrong  \n",
       "3  i am ever feeling nostalgic about the fireplac...  \n",
       "4                               i am feeling grouchy  "
      ]
     },
     "execution_count": 5,
     "metadata": {},
     "output_type": "execute_result"
    }
   ],
   "source": [
    "from nltk.tokenize import RegexpTokenizer\n",
    "\n",
    "def clean_str(string, reg = RegexpTokenizer(r'[a-z]+')):\n",
    "    # Clean a string with RegexpTokenizer\n",
    "    string = string.lower()\n",
    "    tokens = reg.tokenize(string)\n",
    "    return \" \".join(tokens)\n",
    "\n",
    "# Create a new column with the cleaned messages\n",
    "df['text_clean'] = df['text'].apply(lambda string: clean_str(string))\n",
    "\n",
    "# Display the result\n",
    "df.head()\n"
   ]
  },
  {
   "cell_type": "markdown",
   "id": "417f410c",
   "metadata": {},
   "source": [
    "<h2>Distribution of top n-grams "
   ]
  },
  {
   "cell_type": "markdown",
   "id": "d2590915",
   "metadata": {},
   "source": [
    "An n-gram is a contiguous sequence of n items from a given sample of text or speech. It is also a good idea to look at various n-grams to understand which words mainly occur together. For instance, we look at the distribution of unigrams, bigrams, and trigrams across emotions- sadness, anger, and love. You can replicate the same for other categories using this code."
   ]
  },
  {
   "cell_type": "code",
   "execution_count": 6,
   "id": "e450c99a",
   "metadata": {},
   "outputs": [],
   "source": [
    "# Creating individual dataframes of different emotions\n",
    "sadness = df[df['label']==0]['text']\n",
    "joy = df[df['label']==1]['text']\n",
    "love = df[df['label']==2]['text']\n",
    "anger = df[df['label']==3]['text']\n",
    "fear = df[df['label']==4]['text']\n",
    "surprise = df[df['label']==5]['text']"
   ]
  },
  {
   "cell_type": "code",
   "execution_count": 7,
   "id": "caa46981",
   "metadata": {},
   "outputs": [],
   "source": [
    "# Code to calculate ngrams\n",
    "\n",
    "from sklearn.feature_extraction.text import CountVectorizer\n",
    "\n",
    "def get_top_n_gram(corpus,ngram_range,n=None):\n",
    "    vec = CountVectorizer(ngram_range=ngram_range,stop_words = 'english').fit(corpus)\n",
    "    bag_of_words = vec.transform(corpus)\n",
    "    sum_words = bag_of_words.sum(axis=0) \n",
    "    words_freq = [(word, sum_words[0, idx]) for word, idx in vec.vocabulary_.items()]\n",
    "    words_freq =sorted(words_freq, key = lambda x: x[1], reverse=True)\n",
    "    return words_freq[:n]\n",
    "\n",
    "# calculating unigrmas, bigrams and trigrams for all given emotions\n",
    "\n",
    "sad_unigrams = get_top_n_gram(sadness.values,(1,1),7)[2:]\n",
    "joy_unigrams= get_top_n_gram(joy.values,(1,1),7)[2:]\n",
    "love_unigrams= get_top_n_gram(love.values,(1,1),7)[2:]\n",
    "anger_unigrams= get_top_n_gram(anger.values,(1,1),7)[2:]\n",
    "fear_unigrams= get_top_n_gram(fear.values,(1,1),7)[2:]\n",
    "surprise_unigrams= get_top_n_gram(surprise.values,(1,1),7)[2:]\n",
    "\n",
    "sad_bigrams = get_top_n_gram(sadness.values,(2,2),7)[2:]\n",
    "joy_bigrams= get_top_n_gram(joy.values,(2,2),7)[2:]\n",
    "love_bigrams= get_top_n_gram(love.values,(2,2),7)[2:]\n",
    "anger_bigrams= get_top_n_gram(anger.values,(2,2),7)[2:]\n",
    "fear_bigrams= get_top_n_gram(fear.values,(2,2),7)[2:]\n",
    "surprise_bigrams= get_top_n_gram(surprise.values,(2,2),7)[2:]\n",
    "\n",
    "sad_trigrams = get_top_n_gram(sadness.values,(3,3),7)[2:]\n",
    "joy_trigrams= get_top_n_gram(joy.values,(3,3),7)[2:]\n",
    "love_trigrams= get_top_n_gram(love.values,(3,3),7)[2:]\n",
    "anger_trigrams= get_top_n_gram(anger.values,(3,3),7)[2:]\n",
    "fear_trigrams= get_top_n_gram(fear.values,(3,3),7)[2:]\n",
    "surprise_trigrams= get_top_n_gram(surprise.values,(3,3),7)[2:]\n"
   ]
  },
  {
   "cell_type": "code",
   "execution_count": 8,
   "id": "75bde4b2",
   "metadata": {},
   "outputs": [
    {
     "data": {
      "image/png": "[encoded data removed]",
      "text/plain": [
       "<Figure size 864x288 with 3 Axes>"
      ]
     },
     "metadata": {
      "needs_background": "light"
     },
     "output_type": "display_data"
    },
    {
     "data": {
      "image/png": "[encoded data removed]",
      "text/plain": [
       "<Figure size 864x288 with 3 Axes>"
      ]
     },
     "metadata": {
      "needs_background": "light"
     },
     "output_type": "display_data"
    },
    {
     "data": {
      "image/png": "[encoded data removed]",
      "text/plain": [
       "<Figure size 864x288 with 3 Axes>"
      ]
     },
     "metadata": {
      "needs_background": "light"
     },
     "output_type": "display_data"
    },
    {
     "data": {
      "image/png": "[encoded data removed]",
      "text/plain": [
       "<Figure size 864x288 with 3 Axes>"
      ]
     },
     "metadata": {
      "needs_background": "light"
     },
     "output_type": "display_data"
    },
    {
     "data": {
      "image/png": "[encoded data removed]",
      "text/plain": [
       "<Figure size 864x288 with 3 Axes>"
      ]
     },
     "metadata": {
      "needs_background": "light"
     },
     "output_type": "display_data"
    },
    {
     "data": {
      "image/png": "[encoded data removed]",
      "text/plain": [
       "<Figure size 864x288 with 3 Axes>"
      ]
     },
     "metadata": {
      "needs_background": "light"
     },
     "output_type": "display_data"
    }
   ],
   "source": [
    "#Visualizing the ngrams 1-3 for the emotions\n",
    "#sad\n",
    "fig, axes = plt.subplots(1, 3, figsize=(12, 4), sharey=True)\n",
    "fig.suptitle('Emotion : Sad')\n",
    "\n",
    "sns.barplot( list(dict(sad_unigrams).keys()), list(dict(sad_unigrams).values()),ax=axes[0],)\n",
    "axes[0].set_title('Unigrams')\n",
    "axes[0].tick_params(labelrotation=45)\n",
    "\n",
    "sns.barplot( list(dict(sad_bigrams).keys()), list(dict(sad_bigrams).values()),ax=axes[1],)\n",
    "axes[1].set_title('Bigrams')\n",
    "axes[1].tick_params(labelrotation=45)\n",
    "\n",
    "sns.barplot( list(dict(sad_trigrams).keys()), list(dict(sad_trigrams).values()),ax=axes[2],)\n",
    "axes[2].set_title('Trigrams')\n",
    "axes[2].tick_params(labelrotation=45)\n",
    "fig.savefig('sad.png')\n",
    "\n",
    "#joy\n",
    "fig, axes = plt.subplots(1, 3, figsize=(12,4), sharey=True)\n",
    "fig.suptitle('Emotion : Joy')\n",
    "\n",
    "sns.barplot( list(dict(joy_unigrams).keys()), list(dict(joy_unigrams).values()),ax=axes[0],)\n",
    "axes[0].set_title('Unigrams')\n",
    "axes[0].tick_params(labelrotation=45)\n",
    "\n",
    "sns.barplot( list(dict(joy_bigrams).keys()), list(dict(joy_bigrams).values()),ax=axes[1],)\n",
    "axes[1].set_title('Bigrams')\n",
    "axes[1].tick_params(labelrotation=45)\n",
    "\n",
    "sns.barplot( list(dict(joy_trigrams).keys()), list(dict(joy_trigrams).values()),ax=axes[2],)\n",
    "axes[2].set_title('Trigrams')\n",
    "axes[2].tick_params(labelrotation=45)\n",
    "fig.savefig('joy.png')\n",
    "\n",
    "#love\n",
    "fig, axes = plt.subplots(1, 3, figsize=(12,4), sharey=True)\n",
    "fig.suptitle('Emotion : Love')\n",
    "\n",
    "sns.barplot( list(dict(love_unigrams).keys()), list(dict(love_unigrams).values()),ax=axes[0],)\n",
    "axes[0].set_title('Unigrams')\n",
    "axes[0].tick_params(labelrotation=45)\n",
    "\n",
    "sns.barplot( list(dict(love_bigrams).keys()), list(dict(love_bigrams).values()),ax=axes[1],)\n",
    "axes[1].set_title('Bigrams')\n",
    "axes[1].tick_params(labelrotation=45)\n",
    "\n",
    "sns.barplot( list(dict(love_trigrams).keys()), list(dict(love_trigrams).values()),ax=axes[2],)\n",
    "axes[2].set_title('Trigrams')\n",
    "axes[2].tick_params(labelrotation=45)\n",
    "fig.savefig('love.png')\n",
    "\n",
    "#anger\n",
    "fig, axes = plt.subplots(1, 3, figsize=(12,4), sharey=True)\n",
    "fig.suptitle('Emotion : Anger')\n",
    "\n",
    "sns.barplot( list(dict(anger_unigrams).keys()), list(dict(anger_unigrams).values()),ax=axes[0],)\n",
    "axes[0].set_title('Unigrams')\n",
    "axes[0].tick_params(labelrotation=45)\n",
    "\n",
    "sns.barplot( list(dict(anger_bigrams).keys()), list(dict(anger_bigrams).values()),ax=axes[1],)\n",
    "axes[1].set_title('Bigrams')\n",
    "axes[1].tick_params(labelrotation=45)\n",
    "\n",
    "sns.barplot( list(dict(anger_trigrams).keys()), list(dict(anger_trigrams).values()),ax=axes[2],)\n",
    "axes[2].set_title('Trigrams')\n",
    "axes[2].tick_params(labelrotation=45)\n",
    "fig.savefig('anger.png')\n",
    "\n",
    "#fear\n",
    "fig, axes = plt.subplots(1, 3, figsize=(12,4), sharey=True)\n",
    "fig.suptitle('Emotion : Fear')\n",
    "\n",
    "sns.barplot( list(dict(fear_unigrams).keys()), list(dict(fear_unigrams).values()),ax=axes[0],)\n",
    "axes[0].set_title('Unigrams')\n",
    "axes[0].tick_params(labelrotation=45)\n",
    "\n",
    "sns.barplot( list(dict(fear_bigrams).keys()), list(dict(fear_bigrams).values()),ax=axes[1],)\n",
    "axes[1].set_title('Bigrams')\n",
    "axes[1].tick_params(labelrotation=45)\n",
    "\n",
    "sns.barplot( list(dict(fear_trigrams).keys()), list(dict(fear_trigrams).values()),ax=axes[2],)\n",
    "axes[2].set_title('Trigrams')\n",
    "axes[2].tick_params(labelrotation=45)\n",
    "fig.savefig('fear.png')\n",
    "\n",
    "#surprise\n",
    "fig, axes = plt.subplots(1, 3, figsize=(12,4), sharey=True)\n",
    "fig.suptitle('Emotion : Surprise')\n",
    "\n",
    "sns.barplot( list(dict(surprise_unigrams).keys()), list(dict(surprise_unigrams).values()),ax=axes[0],)\n",
    "axes[0].set_title('Unigrams')\n",
    "axes[0].tick_params(labelrotation=45)\n",
    "\n",
    "sns.barplot( list(dict(surprise_bigrams).keys()), list(dict(surprise_bigrams).values()),ax=axes[1],)\n",
    "axes[1].set_title('Bigrams')\n",
    "axes[1].tick_params(labelrotation=45)\n",
    "\n",
    "sns.barplot( list(dict(surprise_trigrams).keys()), list(dict(surprise_trigrams).values()),ax=axes[2],)\n",
    "axes[2].set_title('Trigrams')\n",
    "axes[2].tick_params(labelrotation=45)\n",
    "fig.savefig('surprise.png')"
   ]
  },
  {
   "cell_type": "code",
   "execution_count": 9,
   "id": "rough-landscape",
   "metadata": {
    "execution": {
     "iopub.execute_input": "2021-08-10T15:54:43.801407Z",
     "iopub.status.busy": "2021-08-10T15:54:43.796432Z",
     "iopub.status.idle": "2021-08-10T15:54:44.556254Z",
     "shell.execute_reply": "2021-08-10T15:54:44.555561Z"
    },
    "papermill": {
     "duration": 0.816623,
     "end_time": "2021-08-10T15:54:44.556402",
     "exception": false,
     "start_time": "2021-08-10T15:54:43.739779",
     "status": "completed"
    },
    "tags": []
   },
   "outputs": [],
   "source": [
    "# Convert a collection of text documents to a matrix of token counts\n",
    "#Use Stopwords\n",
    "#Use N-Grams between 1-2 words as we can see that is necessary above\n",
    "from sklearn.feature_extraction.text import CountVectorizer\n",
    "cv = CountVectorizer(stop_words=\"english\",ngram_range = (1, 2))\n",
    "X = cv.fit_transform(df.text_clean)\n",
    "\n",
    "# Get the categories\n",
    "y = df.label"
   ]
  },
  {
   "cell_type": "code",
   "execution_count": 10,
   "id": "nasty-framing",
   "metadata": {
    "execution": {
     "iopub.execute_input": "2021-08-10T15:54:44.595989Z",
     "iopub.status.busy": "2021-08-10T15:54:44.595444Z",
     "iopub.status.idle": "2021-08-10T15:54:44.602281Z",
     "shell.execute_reply": "2021-08-10T15:54:44.602693Z"
    },
    "papermill": {
     "duration": 0.028866,
     "end_time": "2021-08-10T15:54:44.602856",
     "exception": false,
     "start_time": "2021-08-10T15:54:44.573990",
     "status": "completed"
    },
    "tags": []
   },
   "outputs": [
    {
     "name": "stdout",
     "output_type": "stream",
     "text": [
      "X.shape (20000, 120746)\n",
      "y.shape (20000,)\n"
     ]
    }
   ],
   "source": [
    "# Split arrays or matrices into random train and test subsets\n",
    "X_train, X_test, y_train, y_test = train_test_split(X, y, test_size=0.2, random_state=0)\n",
    "print('X.shape',X.shape)\n",
    "print('y.shape',y.shape)\n"
   ]
  },
  {
   "cell_type": "markdown",
   "id": "wanted-glass",
   "metadata": {
    "papermill": {
     "duration": 0.016905,
     "end_time": "2021-08-10T15:54:44.636865",
     "exception": false,
     "start_time": "2021-08-10T15:54:44.619960",
     "status": "completed"
    },
    "tags": []
   },
   "source": [
    "# 2. Model comparison<a class=\"anchor\" id=\"2\"></a>"
   ]
  },
  {
   "cell_type": "code",
   "execution_count": 11,
   "id": "dress-ghana",
   "metadata": {
    "execution": {
     "iopub.execute_input": "2021-08-10T15:54:44.674550Z",
     "iopub.status.busy": "2021-08-10T15:54:44.673661Z",
     "iopub.status.idle": "2021-08-10T15:55:19.616570Z",
     "shell.execute_reply": "2021-08-10T15:55:19.617029Z"
    },
    "papermill": {
     "duration": 34.963337,
     "end_time": "2021-08-10T15:55:19.617196",
     "exception": false,
     "start_time": "2021-08-10T15:54:44.653859",
     "status": "completed"
    },
    "tags": []
   },
   "outputs": [
    {
     "name": "stdout",
     "output_type": "stream",
     "text": [
      "XGBoost              trained in 23.39 sec\n",
      "MultinomialNB        trained in 0.09 sec\n",
      "Logistic Regr.       trained in 24.53 sec\n",
      "KNN                  trained in 0.0 sec\n",
      "Decision Tree        trained in 30.27 sec\n",
      "SVM (Linear)         trained in 5.43 sec\n",
      "SVM (RBF)            trained in 216.17 sec\n"
     ]
    }
   ],
   "source": [
    "#Both models (Random Forest, Gradient Boosting) give a low percentage of accuracy during a really long run so they are marked as a note so that the computer can run the code in a reasonable time\n",
    "models = {\n",
    "    #\"Random Forest\": {\"model\":RandomForestClassifier(), \"perf\":0}, \n",
    "    #\"Gradient Boosting\": {\"model\":GradientBoostingClassifier(), \"perf\":0},\n",
    "    \"XGBoost\": {\"model\":XGBClassifier(eval_metric='mlogloss'), \"perf\":0},\n",
    "    \"MultinomialNB\": {\"model\":MultinomialNB(), \"perf\":0},\n",
    "    \"Logistic Regr.\": {\"model\":LogisticRegression(), \"perf\":0},\n",
    "    \"KNN\": {\"model\":KNeighborsClassifier(), \"perf\":0},\n",
    "    \"Decision Tree\": {\"model\":DecisionTreeClassifier(), \"perf\":0},\n",
    "    \"SVM (Linear)\": {\"model\":LinearSVC(), \"perf\":0},\n",
    "    \"SVM (RBF)\": {\"model\":SVC(), \"perf\":0}\n",
    "}\n",
    "\n",
    "for name, model in models.items():\n",
    "    start = perf_counter()\n",
    "    model['model'].fit(X_train, y_train)\n",
    "    duration = perf_counter() - start\n",
    "    duration = round(duration,2)\n",
    "    model[\"perf\"] = duration\n",
    "    print(f\"{name:20} trained in {duration} sec\")"
   ]
  },
  {
   "cell_type": "code",
   "execution_count": 12,
   "id": "increasing-shower",
   "metadata": {
    "execution": {
     "iopub.execute_input": "2021-08-10T15:55:19.658610Z",
     "iopub.status.busy": "2021-08-10T15:55:19.657750Z",
     "iopub.status.idle": "2021-08-10T15:55:21.471846Z",
     "shell.execute_reply": "2021-08-10T15:55:21.472310Z"
    },
    "papermill": {
     "duration": 1.837152,
     "end_time": "2021-08-10T15:55:21.472488",
     "exception": false,
     "start_time": "2021-08-10T15:55:19.635336",
     "status": "completed"
    },
    "tags": []
   },
   "outputs": [],
   "source": [
    "models_acc = []\n",
    "for name, model in models.items():\n",
    "    models_acc.append([name, model[\"model\"].score(X_test, y_test),model[\"perf\"]])"
   ]
  },
  {
   "cell_type": "code",
   "execution_count": 13,
   "id": "progressive-drive",
   "metadata": {
    "execution": {
     "iopub.execute_input": "2021-08-10T15:55:21.522729Z",
     "iopub.status.busy": "2021-08-10T15:55:21.522138Z",
     "iopub.status.idle": "2021-08-10T15:55:21.524906Z",
     "shell.execute_reply": "2021-08-10T15:55:21.525347Z"
    },
    "papermill": {
     "duration": 0.033941,
     "end_time": "2021-08-10T15:55:21.525504",
     "exception": false,
     "start_time": "2021-08-10T15:55:21.491563",
     "status": "completed"
    },
    "tags": []
   },
   "outputs": [
    {
     "data": {
      "text/html": [
       "<div>\n",
       "<style scoped>\n",
       "    .dataframe tbody tr th:only-of-type {\n",
       "        vertical-align: middle;\n",
       "    }\n",
       "\n",
       "    .dataframe tbody tr th {\n",
       "        vertical-align: top;\n",
       "    }\n",
       "\n",
       "    .dataframe thead th {\n",
       "        text-align: right;\n",
       "    }\n",
       "</style>\n",
       "<table border=\"1\" class=\"dataframe\">\n",
       "  <thead>\n",
       "    <tr style=\"text-align: right;\">\n",
       "      <th></th>\n",
       "      <th>Model</th>\n",
       "      <th>Accuracy w/o scaling</th>\n",
       "      <th>Training time (sec)</th>\n",
       "    </tr>\n",
       "  </thead>\n",
       "  <tbody>\n",
       "    <tr>\n",
       "      <th>0</th>\n",
       "      <td>SVM (Linear)</td>\n",
       "      <td>0.90600</td>\n",
       "      <td>5.43</td>\n",
       "    </tr>\n",
       "    <tr>\n",
       "      <th>1</th>\n",
       "      <td>Logistic Regr.</td>\n",
       "      <td>0.89950</td>\n",
       "      <td>24.53</td>\n",
       "    </tr>\n",
       "    <tr>\n",
       "      <th>2</th>\n",
       "      <td>XGBoost</td>\n",
       "      <td>0.89550</td>\n",
       "      <td>23.39</td>\n",
       "    </tr>\n",
       "    <tr>\n",
       "      <th>3</th>\n",
       "      <td>Decision Tree</td>\n",
       "      <td>0.86875</td>\n",
       "      <td>30.27</td>\n",
       "    </tr>\n",
       "    <tr>\n",
       "      <th>4</th>\n",
       "      <td>SVM (RBF)</td>\n",
       "      <td>0.80150</td>\n",
       "      <td>216.17</td>\n",
       "    </tr>\n",
       "    <tr>\n",
       "      <th>5</th>\n",
       "      <td>MultinomialNB</td>\n",
       "      <td>0.79350</td>\n",
       "      <td>0.09</td>\n",
       "    </tr>\n",
       "    <tr>\n",
       "      <th>6</th>\n",
       "      <td>KNN</td>\n",
       "      <td>0.45950</td>\n",
       "      <td>0.00</td>\n",
       "    </tr>\n",
       "  </tbody>\n",
       "</table>\n",
       "</div>"
      ],
      "text/plain": [
       "            Model  Accuracy w/o scaling  Training time (sec)\n",
       "0    SVM (Linear)               0.90600                 5.43\n",
       "1  Logistic Regr.               0.89950                24.53\n",
       "2         XGBoost               0.89550                23.39\n",
       "3   Decision Tree               0.86875                30.27\n",
       "4       SVM (RBF)               0.80150               216.17\n",
       "5   MultinomialNB               0.79350                 0.09\n",
       "6             KNN               0.45950                 0.00"
      ]
     },
     "execution_count": 13,
     "metadata": {},
     "output_type": "execute_result"
    }
   ],
   "source": [
    "df_acc = pd.DataFrame(models_acc)\n",
    "df_acc.columns = ['Model', 'Accuracy w/o scaling', 'Training time (sec)']\n",
    "df_acc.sort_values(by = 'Accuracy w/o scaling', ascending = False, inplace=True)\n",
    "df_acc.reset_index(drop = True, inplace=True)\n",
    "df_acc"
   ]
  },
  {
   "cell_type": "code",
   "execution_count": 14,
   "id": "revolutionary-sustainability",
   "metadata": {
    "execution": {
     "iopub.execute_input": "2021-08-10T15:55:21.572679Z",
     "iopub.status.busy": "2021-08-10T15:55:21.571821Z",
     "iopub.status.idle": "2021-08-10T15:55:21.762927Z",
     "shell.execute_reply": "2021-08-10T15:55:21.763335Z"
    },
    "papermill": {
     "duration": 0.21894,
     "end_time": "2021-08-10T15:55:21.763504",
     "exception": false,
     "start_time": "2021-08-10T15:55:21.544564",
     "status": "completed"
    },
    "tags": []
   },
   "outputs": [
    {
     "data": {
      "image/png": "[encoded data removed]",
      "text/plain": [
       "<Figure size 1080x360 with 1 Axes>"
      ]
     },
     "metadata": {
      "needs_background": "light"
     },
     "output_type": "display_data"
    }
   ],
   "source": [
    "plt.figure(figsize = (15,5))\n",
    "sns.barplot(x = 'Model', y = 'Accuracy w/o scaling', data = df_acc)\n",
    "plt.title('Accuracy on the test set\\n(the Y-Axis is between 0.8 and 1.0)', fontsize = 15)\n",
    "plt.ylim(0.2,1)\n",
    "plt.show()"
   ]
  },
  {
   "cell_type": "code",
   "execution_count": 15,
   "id": "neutral-affiliation",
   "metadata": {
    "execution": {
     "iopub.execute_input": "2021-08-10T15:55:21.807526Z",
     "iopub.status.busy": "2021-08-10T15:55:21.806662Z",
     "iopub.status.idle": "2021-08-10T15:55:21.991118Z",
     "shell.execute_reply": "2021-08-10T15:55:21.990642Z"
    },
    "papermill": {
     "duration": 0.207625,
     "end_time": "2021-08-10T15:55:21.991257",
     "exception": false,
     "start_time": "2021-08-10T15:55:21.783632",
     "status": "completed"
    },
    "tags": []
   },
   "outputs": [
    {
     "data": {
      "image/png": "[encoded data removed]",
      "text/plain": [
       "<Figure size 1080x360 with 1 Axes>"
      ]
     },
     "metadata": {
      "needs_background": "light"
     },
     "output_type": "display_data"
    }
   ],
   "source": [
    "plt.figure(figsize = (15,5))\n",
    "sns.barplot(x = 'Model', y = 'Training time (sec)', data = df_acc)\n",
    "plt.title('Training time for each model in sec', fontsize = 15)\n",
    "plt.ylim(0,1)\n",
    "plt.show()"
   ]
  },
  {
   "cell_type": "markdown",
   "id": "elementary-harrison",
   "metadata": {
    "papermill": {
     "duration": 0.020848,
     "end_time": "2021-08-10T15:55:22.076887",
     "exception": false,
     "start_time": "2021-08-10T15:55:22.056039",
     "status": "completed"
    },
    "tags": []
   },
   "source": [
    "# 3. Hyperparameter tuning for LinearSVC<a class=\"anchor\" id=\"3\"></a>"
   ]
  },
  {
   "cell_type": "markdown",
   "id": "fresh-fault",
   "metadata": {
    "papermill": {
     "duration": 0.021605,
     "end_time": "2021-08-10T15:55:22.033785",
     "exception": false,
     "start_time": "2021-08-10T15:55:22.012180",
     "status": "completed"
    },
    "tags": []
   },
   "source": [
    "SVM (Linear) gives the best result on the test set on with good running time. In the following part, we'll choose the LinearSVC and try various hyperparameters to optimize it."
   ]
  },
  {
   "cell_type": "code",
   "execution_count": 16,
   "id": "spare-senator",
   "metadata": {
    "execution": {
     "iopub.execute_input": "2021-08-10T15:55:22.128477Z",
     "iopub.status.busy": "2021-08-10T15:55:22.127578Z",
     "iopub.status.idle": "2021-08-10T15:55:23.018635Z",
     "shell.execute_reply": "2021-08-10T15:55:23.019145Z"
    },
    "papermill": {
     "duration": 0.921331,
     "end_time": "2021-08-10T15:55:23.019313",
     "exception": false,
     "start_time": "2021-08-10T15:55:22.097982",
     "status": "completed"
    },
    "tags": []
   },
   "outputs": [
    {
     "name": "stdout",
     "output_type": "stream",
     "text": [
      "Fitting 5 folds for each of 4 candidates, totalling 20 fits\n",
      "Train Accuracy : 0.996\n",
      "Test Accuracy : 0.910\n",
      "Best Accuracy Through Grid Search : 0.905\n",
      "Best Parameters :  {'C': 0.5}\n"
     ]
    }
   ],
   "source": [
    "# Find the best hyperparameter with GridSearchCV\n",
    "# Exhaustive search over specified parameter values for an estimator.\n",
    "\n",
    "from sklearn.model_selection import GridSearchCV\n",
    "\n",
    "params = {\n",
    "            'C': [0.1, 0.5, 1.0, 10.0],\n",
    "         }\n",
    "\n",
    "linear_svc_classifier_grid = GridSearchCV(LinearSVC(random_state=1, max_iter=1000000), param_grid=params, n_jobs=-1, cv=5, verbose=5)\n",
    "linear_svc_classifier_grid.fit(X_train,y_train)\n",
    "\n",
    "print('Train Accuracy : %.3f'%linear_svc_classifier_grid.best_estimator_.score(X_train, y_train))\n",
    "print('Test Accuracy : %.3f'%linear_svc_classifier_grid.best_estimator_.score(X_test, y_test))\n",
    "print('Best Accuracy Through Grid Search : %.3f'%linear_svc_classifier_grid.best_score_)\n",
    "print('Best Parameters : ',linear_svc_classifier_grid.best_params_)\n",
    "\n",
    "\n"
   ]
  },
  {
   "cell_type": "code",
   "execution_count": 17,
   "id": "controlled-trance",
   "metadata": {
    "execution": {
     "iopub.execute_input": "2021-08-10T15:55:23.067129Z",
     "iopub.status.busy": "2021-08-10T15:55:23.066203Z",
     "iopub.status.idle": "2021-08-10T15:55:23.072600Z",
     "shell.execute_reply": "2021-08-10T15:55:23.072066Z"
    },
    "papermill": {
     "duration": 0.03205,
     "end_time": "2021-08-10T15:55:23.072734",
     "exception": false,
     "start_time": "2021-08-10T15:55:23.040684",
     "status": "completed"
    },
    "tags": []
   },
   "outputs": [
    {
     "data": {
      "text/plain": [
       "{'C': 0.5}"
      ]
     },
     "execution_count": 17,
     "metadata": {},
     "output_type": "execute_result"
    }
   ],
   "source": [
    "# Display the best hyperparameters\n",
    "linear_svc_classifier_grid.best_params_"
   ]
  },
  {
   "cell_type": "markdown",
   "id": "unnecessary-accessory",
   "metadata": {
    "papermill": {
     "duration": 0.021505,
     "end_time": "2021-08-10T15:55:23.116267",
     "exception": false,
     "start_time": "2021-08-10T15:55:23.094762",
     "status": "completed"
    },
    "tags": []
   },
   "source": [
    "# 4. The LinearSVC Model<a class=\"anchor\" id=\"4\"></a>"
   ]
  },
  {
   "cell_type": "code",
   "execution_count": 18,
   "id": "3668fbf8",
   "metadata": {},
   "outputs": [
    {
     "data": {
      "text/markdown": [
       "## Accuracy: 90.98%\n"
      ],
      "text/plain": [
       "<IPython.core.display.Markdown object>"
      ]
     },
     "metadata": {},
     "output_type": "display_data"
    }
   ],
   "source": [
    "# Create Decision Tree classifer object\n",
    "clf = LinearSVC(C= 0.5)\n",
    "\n",
    "# Train Decision Tree Classifer\n",
    "clf = clf.fit(X_train,y_train)\n",
    "\n",
    "#Predict the response for test dataset\n",
    "y_pred = clf.predict(X_test)\n",
    "\n",
    "from sklearn import metrics\n",
    "from sklearn.metrics import classification_report, accuracy_score\n",
    "# Model Accuracy, how often is the classifier correct?\n",
    "printmd(f'## Accuracy: {round(accuracy_score(y_test,y_pred),4)*100}%\\n')\n"
   ]
  },
  {
   "cell_type": "code",
   "execution_count": 19,
   "id": "ae45211a",
   "metadata": {},
   "outputs": [
    {
     "data": {
      "image/png": "[encoded data removed]",
      "text/plain": [
       "<Figure size 432x288 with 2 Axes>"
      ]
     },
     "metadata": {
      "needs_background": "light"
     },
     "output_type": "display_data"
    },
    {
     "data": {
      "image/png": "[encoded data removed]",
      "text/plain": [
       "<Figure size 432x288 with 2 Axes>"
      ]
     },
     "metadata": {
      "needs_background": "light"
     },
     "output_type": "display_data"
    }
   ],
   "source": [
    "import matplotlib.pyplot as plt\n",
    "\n",
    "\n",
    "from sklearn.model_selection import train_test_split\n",
    "from sklearn.metrics import ConfusionMatrixDisplay\n",
    "# Plot non-normalized confusion matrix\n",
    "titles_options = [\n",
    "    (\"Confusion matrix, without normalization\", None),\n",
    "    (\"Normalized confusion matrix\", \"true\"),\n",
    "]\n",
    "class_names = ['sadness', 'joy', 'love', 'anger', 'fear', 'surprise']\n",
    "for title, normalize in titles_options:\n",
    "    disp = ConfusionMatrixDisplay.from_estimator(\n",
    "        clf,\n",
    "        X_test,\n",
    "        y_test,\n",
    "        display_labels=class_names,\n",
    "        cmap=plt.cm.Blues,\n",
    "        normalize=normalize,\n",
    "    )\n",
    "    disp.ax_.set_title(title)\n",
    "\n",
    "plt.show()"
   ]
  },
  {
   "cell_type": "code",
   "execution_count": 20,
   "id": "972a1ae3",
   "metadata": {},
   "outputs": [
    {
     "name": "stdout",
     "output_type": "stream",
     "text": [
      "              precision    recall  f1-score   support\n",
      "\n",
      "     sadness       0.94      0.95      0.94      1131\n",
      "         joy       0.91      0.94      0.92      1362\n",
      "        love       0.80      0.80      0.80       333\n",
      "       anger       0.92      0.90      0.91       555\n",
      "        fear       0.92      0.88      0.90       478\n",
      "    surprise       0.86      0.77      0.81       141\n",
      "\n",
      "    accuracy                           0.91      4000\n",
      "   macro avg       0.89      0.87      0.88      4000\n",
      "weighted avg       0.91      0.91      0.91      4000\n",
      "\n"
     ]
    }
   ],
   "source": [
    "print(classification_report(y_test,y_pred, target_names=class_names))"
   ]
  },
  {
   "cell_type": "markdown",
   "id": "stretch-bundle",
   "metadata": {
    "papermill": {
     "duration": 0.022285,
     "end_time": "2021-08-10T15:55:23.314156",
     "exception": false,
     "start_time": "2021-08-10T15:55:23.291871",
     "status": "completed"
    },
    "tags": []
   },
   "source": [
    "# 5. Example of predictions<a class=\"anchor\" id=\"5\"></a>"
   ]
  },
  {
   "cell_type": "code",
   "execution_count": 21,
   "id": "3b25b9dd",
   "metadata": {},
   "outputs": [],
   "source": [
    "#The answers will appear below the text that users enter\n",
    "answer = [\"\"\"I feel you are sad <br>\n",
    "Here are some tips to help you get over the sadness:\n",
    "1. Look for support from people who make you feel safe and cared for.\n",
    "2. Make face-time a priority.\n",
    "3. Try to keep up with social activities even if you don’t feel like it.\n",
    "4. Find ways to support others.\"\"\",\n",
    "\"\"\"I feel you are joyful<br>\n",
    "Keep it up!<br>\n",
    "The best vitamin to be a happy person is B positive.\"\"\",\n",
    "\"\"\"I feel you are in love<br>\n",
    "Love is a precious feeling, not felt by everyone only felt by lucky one.\"\"\",\n",
    "\"\"\"I feel you're angry<br>\n",
    "Here are some tips for releasing anger:\n",
    "1. Think before you speak\n",
    "2. Once you're calm, express your anger\n",
    "3. Get some exercise\n",
    "4. Take a timeout\n",
    "5. Identify possible solutions\"\"\",\n",
    "\"\"\"I feel you're scared<br>\n",
    "Here are steps to help you deal with fear:\n",
    "1. Breathe through panic\n",
    "2. Face your fears\n",
    "3. Don't try to be perfect\n",
    "4. Visualise a happy place\"\"\",\n",
    "\"\"\"I feel you are surprised<br>\n",
    "Surprise is a feeling that disappears after a few moments.<br>\n",
    "It is best to go to a quiet place, take a deep breath and then return calm\"\"\"\n",
    "]"
   ]
  },
  {
   "cell_type": "code",
   "execution_count": 22,
   "id": "united-saying",
   "metadata": {
    "execution": {
     "iopub.execute_input": "2021-08-10T15:55:23.366758Z",
     "iopub.status.busy": "2021-08-10T15:55:23.366171Z",
     "iopub.status.idle": "2021-08-10T15:55:23.388464Z",
     "shell.execute_reply": "2021-08-10T15:55:23.388973Z"
    },
    "papermill": {
     "duration": 0.052579,
     "end_time": "2021-08-10T15:55:23.389148",
     "exception": false,
     "start_time": "2021-08-10T15:55:23.336569",
     "status": "completed"
    },
    "tags": []
   },
   "outputs": [
    {
     "data": {
      "text/markdown": [
       "**Real: sadness, Predicted: sadness**"
      ],
      "text/plain": [
       "<IPython.core.display.Markdown object>"
      ]
     },
     "metadata": {},
     "output_type": "display_data"
    },
    {
     "data": {
      "text/markdown": [
       "**Message:** i didnt feel humiliated"
      ],
      "text/plain": [
       "<IPython.core.display.Markdown object>"
      ]
     },
     "metadata": {},
     "output_type": "display_data"
    },
    {
     "data": {
      "text/markdown": [
       "**Answer:** I feel you are sad <br>\n",
       "Here are some tips to help you get over the sadness:\n",
       "1. Look for support from people who make you feel safe and cared for.\n",
       "2. Make face-time a priority.\n",
       "3. Try to keep up with social activities even if you don’t feel like it.\n",
       "4. Find ways to support others."
      ],
      "text/plain": [
       "<IPython.core.display.Markdown object>"
      ]
     },
     "metadata": {},
     "output_type": "display_data"
    },
    {
     "data": {
      "text/markdown": [
       "_______________________________________________________________"
      ],
      "text/plain": [
       "<IPython.core.display.Markdown object>"
      ]
     },
     "metadata": {},
     "output_type": "display_data"
    },
    {
     "data": {
      "text/markdown": [
       "**Real: sadness, Predicted: sadness**"
      ],
      "text/plain": [
       "<IPython.core.display.Markdown object>"
      ]
     },
     "metadata": {},
     "output_type": "display_data"
    },
    {
     "data": {
      "text/markdown": [
       "**Message:** i can go from feeling so hopeless to so damned hopeful just from being around someone who cares and is awake"
      ],
      "text/plain": [
       "<IPython.core.display.Markdown object>"
      ]
     },
     "metadata": {},
     "output_type": "display_data"
    },
    {
     "data": {
      "text/markdown": [
       "**Answer:** I feel you are sad <br>\n",
       "Here are some tips to help you get over the sadness:\n",
       "1. Look for support from people who make you feel safe and cared for.\n",
       "2. Make face-time a priority.\n",
       "3. Try to keep up with social activities even if you don’t feel like it.\n",
       "4. Find ways to support others."
      ],
      "text/plain": [
       "<IPython.core.display.Markdown object>"
      ]
     },
     "metadata": {},
     "output_type": "display_data"
    },
    {
     "data": {
      "text/markdown": [
       "_______________________________________________________________"
      ],
      "text/plain": [
       "<IPython.core.display.Markdown object>"
      ]
     },
     "metadata": {},
     "output_type": "display_data"
    },
    {
     "data": {
      "text/markdown": [
       "**Real: joy, Predicted: joy**"
      ],
      "text/plain": [
       "<IPython.core.display.Markdown object>"
      ]
     },
     "metadata": {},
     "output_type": "display_data"
    },
    {
     "data": {
      "text/markdown": [
       "**Message:** i have been with petronas for years i feel that petronas has performed well and made a huge profit"
      ],
      "text/plain": [
       "<IPython.core.display.Markdown object>"
      ]
     },
     "metadata": {},
     "output_type": "display_data"
    },
    {
     "data": {
      "text/markdown": [
       "**Answer:** I feel you are joyful<br>\n",
       "Keep it up!<br>\n",
       "The best vitamin to be a happy person is B positive."
      ],
      "text/plain": [
       "<IPython.core.display.Markdown object>"
      ]
     },
     "metadata": {},
     "output_type": "display_data"
    },
    {
     "data": {
      "text/markdown": [
       "_______________________________________________________________"
      ],
      "text/plain": [
       "<IPython.core.display.Markdown object>"
      ]
     },
     "metadata": {},
     "output_type": "display_data"
    },
    {
     "data": {
      "text/markdown": [
       "**Real: joy, Predicted: joy**"
      ],
      "text/plain": [
       "<IPython.core.display.Markdown object>"
      ]
     },
     "metadata": {},
     "output_type": "display_data"
    },
    {
     "data": {
      "text/markdown": [
       "**Message:** i do feel that running is a divine experience and that i can expect to have some type of spiritual encounter"
      ],
      "text/plain": [
       "<IPython.core.display.Markdown object>"
      ]
     },
     "metadata": {},
     "output_type": "display_data"
    },
    {
     "data": {
      "text/markdown": [
       "**Answer:** I feel you are joyful<br>\n",
       "Keep it up!<br>\n",
       "The best vitamin to be a happy person is B positive."
      ],
      "text/plain": [
       "<IPython.core.display.Markdown object>"
      ]
     },
     "metadata": {},
     "output_type": "display_data"
    },
    {
     "data": {
      "text/markdown": [
       "_______________________________________________________________"
      ],
      "text/plain": [
       "<IPython.core.display.Markdown object>"
      ]
     },
     "metadata": {},
     "output_type": "display_data"
    },
    {
     "data": {
      "text/markdown": [
       "**Real: love, Predicted: love**"
      ],
      "text/plain": [
       "<IPython.core.display.Markdown object>"
      ]
     },
     "metadata": {},
     "output_type": "display_data"
    },
    {
     "data": {
      "text/markdown": [
       "**Message:** i am ever feeling nostalgic about the fireplace i will know that it is still on the property"
      ],
      "text/plain": [
       "<IPython.core.display.Markdown object>"
      ]
     },
     "metadata": {},
     "output_type": "display_data"
    },
    {
     "data": {
      "text/markdown": [
       "**Answer:** I feel you are in love<br>\n",
       "Love is a precious feeling, not felt by everyone only felt by lucky one."
      ],
      "text/plain": [
       "<IPython.core.display.Markdown object>"
      ]
     },
     "metadata": {},
     "output_type": "display_data"
    },
    {
     "data": {
      "text/markdown": [
       "_______________________________________________________________"
      ],
      "text/plain": [
       "<IPython.core.display.Markdown object>"
      ]
     },
     "metadata": {},
     "output_type": "display_data"
    },
    {
     "data": {
      "text/markdown": [
       "**Real: love, Predicted: love**"
      ],
      "text/plain": [
       "<IPython.core.display.Markdown object>"
      ]
     },
     "metadata": {},
     "output_type": "display_data"
    },
    {
     "data": {
      "text/markdown": [
       "**Message:** i feel romantic too"
      ],
      "text/plain": [
       "<IPython.core.display.Markdown object>"
      ]
     },
     "metadata": {},
     "output_type": "display_data"
    },
    {
     "data": {
      "text/markdown": [
       "**Answer:** I feel you are in love<br>\n",
       "Love is a precious feeling, not felt by everyone only felt by lucky one."
      ],
      "text/plain": [
       "<IPython.core.display.Markdown object>"
      ]
     },
     "metadata": {},
     "output_type": "display_data"
    },
    {
     "data": {
      "text/markdown": [
       "_______________________________________________________________"
      ],
      "text/plain": [
       "<IPython.core.display.Markdown object>"
      ]
     },
     "metadata": {},
     "output_type": "display_data"
    },
    {
     "data": {
      "text/markdown": [
       "**Real: anger, Predicted: anger**"
      ],
      "text/plain": [
       "<IPython.core.display.Markdown object>"
      ]
     },
     "metadata": {},
     "output_type": "display_data"
    },
    {
     "data": {
      "text/markdown": [
       "**Message:** im grabbing a minute to post i feel greedy wrong"
      ],
      "text/plain": [
       "<IPython.core.display.Markdown object>"
      ]
     },
     "metadata": {},
     "output_type": "display_data"
    },
    {
     "data": {
      "text/markdown": [
       "**Answer:** I feel you're angry<br>\n",
       "Here are some tips for releasing anger:\n",
       "1. Think before you speak\n",
       "2. Once you're calm, express your anger\n",
       "3. Get some exercise\n",
       "4. Take a timeout\n",
       "5. Identify possible solutions"
      ],
      "text/plain": [
       "<IPython.core.display.Markdown object>"
      ]
     },
     "metadata": {},
     "output_type": "display_data"
    },
    {
     "data": {
      "text/markdown": [
       "_______________________________________________________________"
      ],
      "text/plain": [
       "<IPython.core.display.Markdown object>"
      ]
     },
     "metadata": {},
     "output_type": "display_data"
    },
    {
     "data": {
      "text/markdown": [
       "**Real: anger, Predicted: anger**"
      ],
      "text/plain": [
       "<IPython.core.display.Markdown object>"
      ]
     },
     "metadata": {},
     "output_type": "display_data"
    },
    {
     "data": {
      "text/markdown": [
       "**Message:** i am feeling grouchy"
      ],
      "text/plain": [
       "<IPython.core.display.Markdown object>"
      ]
     },
     "metadata": {},
     "output_type": "display_data"
    },
    {
     "data": {
      "text/markdown": [
       "**Answer:** I feel you're angry<br>\n",
       "Here are some tips for releasing anger:\n",
       "1. Think before you speak\n",
       "2. Once you're calm, express your anger\n",
       "3. Get some exercise\n",
       "4. Take a timeout\n",
       "5. Identify possible solutions"
      ],
      "text/plain": [
       "<IPython.core.display.Markdown object>"
      ]
     },
     "metadata": {},
     "output_type": "display_data"
    },
    {
     "data": {
      "text/markdown": [
       "_______________________________________________________________"
      ],
      "text/plain": [
       "<IPython.core.display.Markdown object>"
      ]
     },
     "metadata": {},
     "output_type": "display_data"
    },
    {
     "data": {
      "text/markdown": [
       "**Real: fear, Predicted: fear**"
      ],
      "text/plain": [
       "<IPython.core.display.Markdown object>"
      ]
     },
     "metadata": {},
     "output_type": "display_data"
    },
    {
     "data": {
      "text/markdown": [
       "**Message:** i feel as confused about life as a teenager or as jaded as a year old man"
      ],
      "text/plain": [
       "<IPython.core.display.Markdown object>"
      ]
     },
     "metadata": {},
     "output_type": "display_data"
    },
    {
     "data": {
      "text/markdown": [
       "**Answer:** I feel you're scared<br>\n",
       "Here are steps to help you deal with fear:\n",
       "1. Breathe through panic\n",
       "2. Face your fears\n",
       "3. Don't try to be perfect\n",
       "4. Visualise a happy place"
      ],
      "text/plain": [
       "<IPython.core.display.Markdown object>"
      ]
     },
     "metadata": {},
     "output_type": "display_data"
    },
    {
     "data": {
      "text/markdown": [
       "_______________________________________________________________"
      ],
      "text/plain": [
       "<IPython.core.display.Markdown object>"
      ]
     },
     "metadata": {},
     "output_type": "display_data"
    },
    {
     "data": {
      "text/markdown": [
       "**Real: fear, Predicted: fear**"
      ],
      "text/plain": [
       "<IPython.core.display.Markdown object>"
      ]
     },
     "metadata": {},
     "output_type": "display_data"
    },
    {
     "data": {
      "text/markdown": [
       "**Message:** i now feel compromised and skeptical of the value of every unit of work i put in"
      ],
      "text/plain": [
       "<IPython.core.display.Markdown object>"
      ]
     },
     "metadata": {},
     "output_type": "display_data"
    },
    {
     "data": {
      "text/markdown": [
       "**Answer:** I feel you're scared<br>\n",
       "Here are steps to help you deal with fear:\n",
       "1. Breathe through panic\n",
       "2. Face your fears\n",
       "3. Don't try to be perfect\n",
       "4. Visualise a happy place"
      ],
      "text/plain": [
       "<IPython.core.display.Markdown object>"
      ]
     },
     "metadata": {},
     "output_type": "display_data"
    },
    {
     "data": {
      "text/markdown": [
       "_______________________________________________________________"
      ],
      "text/plain": [
       "<IPython.core.display.Markdown object>"
      ]
     },
     "metadata": {},
     "output_type": "display_data"
    },
    {
     "data": {
      "text/markdown": [
       "**Real: surprise, Predicted: surprise**"
      ],
      "text/plain": [
       "<IPython.core.display.Markdown object>"
      ]
     },
     "metadata": {},
     "output_type": "display_data"
    },
    {
     "data": {
      "text/markdown": [
       "**Message:** ive been taking or milligrams or times recommended amount and ive fallen asleep a lot faster but i also feel like so funny"
      ],
      "text/plain": [
       "<IPython.core.display.Markdown object>"
      ]
     },
     "metadata": {},
     "output_type": "display_data"
    },
    {
     "data": {
      "text/markdown": [
       "**Answer:** I feel you are surprised<br>\n",
       "Surprise is a feeling that disappears after a few moments.<br>\n",
       "It is best to go to a quiet place, take a deep breath and then return calm"
      ],
      "text/plain": [
       "<IPython.core.display.Markdown object>"
      ]
     },
     "metadata": {},
     "output_type": "display_data"
    },
    {
     "data": {
      "text/markdown": [
       "_______________________________________________________________"
      ],
      "text/plain": [
       "<IPython.core.display.Markdown object>"
      ]
     },
     "metadata": {},
     "output_type": "display_data"
    },
    {
     "data": {
      "text/markdown": [
       "**Real: surprise, Predicted: surprise**"
      ],
      "text/plain": [
       "<IPython.core.display.Markdown object>"
      ]
     },
     "metadata": {},
     "output_type": "display_data"
    },
    {
     "data": {
      "text/markdown": [
       "**Message:** i have seen heard and read over the past couple of days i am left feeling impressed by more than a few companies"
      ],
      "text/plain": [
       "<IPython.core.display.Markdown object>"
      ]
     },
     "metadata": {},
     "output_type": "display_data"
    },
    {
     "data": {
      "text/markdown": [
       "**Answer:** I feel you are surprised<br>\n",
       "Surprise is a feeling that disappears after a few moments.<br>\n",
       "It is best to go to a quiet place, take a deep breath and then return calm"
      ],
      "text/plain": [
       "<IPython.core.display.Markdown object>"
      ]
     },
     "metadata": {},
     "output_type": "display_data"
    },
    {
     "data": {
      "text/markdown": [
       "_______________________________________________________________"
      ],
      "text/plain": [
       "<IPython.core.display.Markdown object>"
      ]
     },
     "metadata": {},
     "output_type": "display_data"
    }
   ],
   "source": [
    "def display_result(df, number=2):\n",
    "    for i in range(number):\n",
    "        msg = df['text_clean'].iloc[i]\n",
    "        label = df[\"description\"].iloc[i]\n",
    "        msg_vec = cv.transform([msg])\n",
    "        pred_label = clf.predict(msg_vec)\n",
    "        \n",
    "        printmd(f\"**Real: {label}, Predicted: {labels_dict[pred_label[0]]}**\")\n",
    "        printmd(f\"**Message:** {msg}\")\n",
    "        printmd(f\"**Answer:** {answer[pred_label[0]]}\")\n",
    "        printmd(\"_______________________________________________________________\")\n",
    "    \n",
    "df_0 = df[df['description'] == 'sadness']\n",
    "df_1 = df[df['description'] == 'joy']\n",
    "df_2 = df[df['description'] == 'love']\n",
    "df_3 = df[df['description'] == 'anger']\n",
    "df_4 = df[df['description'] == 'fear']\n",
    "df_5 = df[df['description'] == 'surprise']\n",
    "display_result(df_0)\n",
    "display_result(df_1)\n",
    "display_result(df_2)\n",
    "display_result(df_3)\n",
    "display_result(df_4)\n",
    "display_result(df_5)\n"
   ]
  },
  {
   "cell_type": "markdown",
   "id": "desirable-setup",
   "metadata": {
    "papermill": {
     "duration": 0.026956,
     "end_time": "2021-08-10T15:55:23.446563",
     "exception": false,
     "start_time": "2021-08-10T15:55:23.419607",
     "status": "completed"
    },
    "tags": []
   },
   "source": [
    "# B-Well!\n",
    "\n",
    "![simple-powerfull](https://img.freepik.com/free-vector/bot-chat-say-hi-robots-that-are-programmed-talk-customers-online_68708-622.jpg?size=626&ext=jpg)"
   ]
  },
  {
   "cell_type": "markdown",
   "id": "f3e713e4",
   "metadata": {},
   "source": [
    "# sources:\n",
    "https://huggingface.co/datasets/emotion  database<br>\n",
    "https://numpy.org/learn/ <br>\n",
    "https://scikit-learn.org/stable/<br>\n",
    "https://www.nltk.org/api/nltk.lm.html <br>\n",
    "https://www.kaggle.com/parulpandey/exploratory-data-analysis-of-the-emotion-dataset/notebook <br>\n",
    "https://www.mentalhealth.gov/ <br>"
   ]
  }
 ],
 "metadata": {
  "kernelspec": {
   "display_name": "Python 3",
   "language": "python",
   "name": "python3"
  },
  "language_info": {
   "codemirror_mode": {
    "name": "ipython",
    "version": 3
   },
   "file_extension": ".py",
   "mimetype": "text/x-python",
   "name": "python",
   "nbconvert_exporter": "python",
   "pygments_lexer": "ipython3",
   "version": "3.8.10"
  },
  "papermill": {
   "default_parameters": {},
   "duration": 48.968382,
   "end_time": "2021-08-10T15:55:24.183040",
   "environment_variables": {},
   "exception": null,
   "input_path": "__notebook__.ipynb",
   "output_path": "__notebook__.ipynb",
   "parameters": {},
   "start_time": "2021-08-10T15:54:35.214658",
   "version": "2.3.2"
  }
 },
 "nbformat": 4,
 "nbformat_minor": 5
}
